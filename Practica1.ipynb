{
  "nbformat": 4,
  "nbformat_minor": 0,
  "metadata": {
    "colab": {
      "provenance": [],
      "authorship_tag": "ABX9TyOegmWx5lbJX0vYfeoKnIEp",
      "include_colab_link": true
    },
    "kernelspec": {
      "name": "python3",
      "display_name": "Python 3"
    },
    "language_info": {
      "name": "python"
    }
  },
  "cells": [
    {
      "cell_type": "markdown",
      "metadata": {
        "id": "view-in-github",
        "colab_type": "text"
      },
      "source": [
        "<a href=\"https://colab.research.google.com/github/doloresgarro/Deep-Learning/blob/main/Practica1.ipynb\" target=\"_parent\"><img src=\"https://colab.research.google.com/assets/colab-badge.svg\" alt=\"Open In Colab\"/></a>"
      ]
    },
    {
      "cell_type": "markdown",
      "source": [
        "# **REPASO DE PYTHON**\n",
        "\n",
        "---\n"
      ],
      "metadata": {
        "id": "N0qmFslsAb8g"
      }
    },
    {
      "cell_type": "markdown",
      "source": [
        "### **Ejercicio 1**\n",
        "*Utilizando los constructores para cada tipo de dato genere códigos de ejemplo y recórralos imprimiendo sus valores.*"
      ],
      "metadata": {
        "id": "0gW7HQ8MC98U"
      }
    },
    {
      "cell_type": "code",
      "source": [
        "# lista\n",
        "nums = [1, 2, 3, 4, 5]\n",
        "# Imprimo lista\n",
        "nums[:5]"
      ],
      "metadata": {
        "colab": {
          "base_uri": "https://localhost:8080/"
        },
        "id": "6QO5n6SLDXco",
        "outputId": "dce8deec-ec74-4421-f832-de3ac6d164d1"
      },
      "execution_count": null,
      "outputs": [
        {
          "output_type": "execute_result",
          "data": {
            "text/plain": [
              "[1, 2, 3, 4, 5]"
            ]
          },
          "metadata": {},
          "execution_count": 11
        }
      ]
    },
    {
      "cell_type": "code",
      "source": [
        "# tupla --> similar a una lista pero no se puede modificar elementos dentro de ella,\n",
        "# se define entre ()\n",
        "numsT = (1, 2, 3, 4, 5)\n",
        "print(numsT) #imprime con ()\n",
        "print(nums) # imprime con []"
      ],
      "metadata": {
        "colab": {
          "base_uri": "https://localhost:8080/"
        },
        "id": "BW_1f2UEFyjm",
        "outputId": "e62bc631-813a-4df2-c93a-d09aacfb3dfd"
      },
      "execution_count": null,
      "outputs": [
        {
          "output_type": "stream",
          "name": "stdout",
          "text": [
            "(1, 2, 3, 4, 5)\n",
            "[1, 2, 3, 4, 5]\n"
          ]
        }
      ]
    },
    {
      "cell_type": "code",
      "source": [
        "# strings\n",
        "palabras = \"Hola Doloresssssssssss\"\n",
        "print(palabras)\n",
        "print(len(palabras))\n",
        "print(type(palabras))\n"
      ],
      "metadata": {
        "colab": {
          "base_uri": "https://localhost:8080/"
        },
        "id": "wQCC5rzEGXhQ",
        "outputId": "46e0817f-58ef-4063-d3a4-c6d27aeda40a"
      },
      "execution_count": null,
      "outputs": [
        {
          "output_type": "stream",
          "name": "stdout",
          "text": [
            "Hola Doloresssssssssss\n",
            "22\n",
            "<class 'str'>\n"
          ]
        }
      ]
    },
    {
      "cell_type": "code",
      "source": [
        "# conjuntos\n",
        "conj1 = set([1, 2, 3, 4, 5, 6, 7, 8, 9, 10])\n",
        "conj2 = set([0, 2, 4, 6, 8,10, 12, 14, 16, 18, 20])\n",
        "\n",
        "print('Conjunto 1')\n",
        "print(conj1)\n",
        "print('Conjunto 2')\n",
        "print(conj2)\n",
        "print()\n",
        "\n",
        "# si cambio el orden o duplico un numero dentro del conjunto --> al imprimir está ordenado y no aparece el dato repetido\n",
        "conj1 = set([1, 3, 5, 2, 6, 7, 4, 8, 9, 10])\n",
        "conj2 = set([0, 2, 4, 4, 6, 8,10, 12, 14, 16, 18, 20])\n",
        "\n",
        "print(conj1)\n",
        "print(conj2)\n",
        "print()\n",
        "\n",
        "# elem que estan\n",
        "print('Elementos que estan en el conj1 y no estan en el conj2')\n",
        "print(conj1 - conj2) # --> elem q estan en el conj1 que no estan en el conj2\n",
        "\n",
        "\n",
        "print('Elementos que estan en el conj2 y no estan en el conj1')\n",
        "print(conj2 - conj1) # --> elem q estan en el conj2 que no estan en el conj1\n",
        "\n",
        "# intersección --> elem q estan en ambos conjuntos\n",
        "print('Intersección')\n",
        "print(conj1 & conj2)\n",
        "\n",
        "# union --> elems de ambos conjuntos\n",
        "print('Unión')\n",
        "print(conj1 | conj2)\n"
      ],
      "metadata": {
        "colab": {
          "base_uri": "https://localhost:8080/"
        },
        "id": "p5EDnlE3HNaA",
        "outputId": "e50523fb-7615-4de8-b655-66240c18ff86"
      },
      "execution_count": null,
      "outputs": [
        {
          "output_type": "stream",
          "name": "stdout",
          "text": [
            "Conjunto 1\n",
            "{1, 2, 3, 4, 5, 6, 7, 8, 9, 10}\n",
            "Conjunto 2\n",
            "{0, 2, 4, 6, 8, 10, 12, 14, 16, 18, 20}\n",
            "\n",
            "{1, 2, 3, 4, 5, 6, 7, 8, 9, 10}\n",
            "{0, 2, 4, 6, 8, 10, 12, 14, 16, 18, 20}\n",
            "\n",
            "Elementos que estan en el conj1 y no estan en el conj2\n",
            "{1, 3, 5, 7, 9}\n",
            "Elementos que estan en el conj2 y no estan en el conj1\n",
            "{0, 12, 14, 16, 18, 20}\n",
            "Intersección\n",
            "{2, 4, 6, 8, 10}\n",
            "Unión\n",
            "{0, 1, 2, 3, 4, 5, 6, 7, 8, 9, 10, 12, 14, 16, 18, 20}\n"
          ]
        }
      ]
    },
    {
      "cell_type": "code",
      "source": [
        "# diccionario\n",
        "persona = {'Nombre' : 'Dolores', 'Apellido' : 'Garro', 'Edad' : 23}\n",
        "\n",
        "print('El nombre de la persona es: ')\n",
        "print(persona['Nombre'])\n",
        "\n",
        "print('Garro' in persona) # da falso porque busca una key\n",
        "print('Apellido' in persona)\n",
        "\n",
        "print(len(persona))"
      ],
      "metadata": {
        "colab": {
          "base_uri": "https://localhost:8080/"
        },
        "id": "FsETSrWyKmnS",
        "outputId": "3021b6aa-6a2a-4ed2-ccdf-4648e0c0de1d"
      },
      "execution_count": null,
      "outputs": [
        {
          "output_type": "stream",
          "name": "stdout",
          "text": [
            "El nombre de la persona es: \n",
            "Dolores\n",
            "False\n",
            "True\n",
            "3\n"
          ]
        }
      ]
    },
    {
      "cell_type": "markdown",
      "source": [
        "### **Ejercicio 2**\n",
        "*Genere el código necesario para recorrer simultáneamente 2 listas con la misma cantidad de elementos e imprima los mismos utilizando un único for (tip: función zip).*\n"
      ],
      "metadata": {
        "id": "l5-GUJqA2ISY"
      }
    },
    {
      "cell_type": "code",
      "source": [
        "lista1 = [1, 2, 3]\n",
        "lista2 = ['Juan', 'Valentina', 'Dolores']\n",
        "\n",
        "list(zip(lista1, lista2))"
      ],
      "metadata": {
        "colab": {
          "base_uri": "https://localhost:8080/"
        },
        "id": "pcFwIwHv2agc",
        "outputId": "696953fe-d214-469d-8aad-d414e9653e18"
      },
      "execution_count": null,
      "outputs": [
        {
          "output_type": "execute_result",
          "data": {
            "text/plain": [
              "[(1, 'Juan'), (2, 'Valentina'), (3, 'Dolores')]"
            ]
          },
          "metadata": {},
          "execution_count": 5
        }
      ]
    },
    {
      "cell_type": "markdown",
      "source": [
        "### **Ejercicio 3**\n",
        "\n",
        "*Implemente una función que a partir de la lista que recibe cómo parámetro, retorne una nueva lista sin elementos\n",
        "repetidos. Compruebe su correcto funcionamiento.*\n"
      ],
      "metadata": {
        "id": "2dHLTAu24Lfj"
      }
    },
    {
      "cell_type": "code",
      "source": [
        "def funcion(l1):\n",
        "  l2 = list(set(l1)) #convierto en conjunto --> creo q primero convierte l1 en conjunto y dsp lo vuelve a convertir a lista\n",
        "  return l2"
      ],
      "metadata": {
        "id": "IGe6gRPM7mC2"
      },
      "execution_count": null,
      "outputs": []
    },
    {
      "cell_type": "code",
      "source": [
        "l1 = [1, 3, 3, 4]\n",
        "print(l1)\n",
        "\n",
        "print('Sin repetidos: ')\n",
        "print(funcion(l1))\n",
        "\n",
        "\n"
      ],
      "metadata": {
        "colab": {
          "base_uri": "https://localhost:8080/"
        },
        "id": "a-sCuc5g4U1D",
        "outputId": "dd17d207-e95e-48b7-b19e-eed6a862a3ac"
      },
      "execution_count": null,
      "outputs": [
        {
          "output_type": "stream",
          "name": "stdout",
          "text": [
            "[1, 3, 3, 4]\n",
            "Sin repetidos: \n",
            "[1, 3, 4]\n"
          ]
        }
      ]
    },
    {
      "cell_type": "markdown",
      "source": [
        "### **Ejercicio 4**\n",
        "*Implemente una función que calcule la distancia entre 2 puntos (2D). Utilice la función sqrt del paquete math para\n",
        "implementarla y compruebe el correcto funcionamiento de la misma.*\n"
      ],
      "metadata": {
        "id": "4PzuSKdE79yk"
      }
    },
    {
      "cell_type": "code",
      "source": [
        "import math\n",
        "x1 = 4 # esta bien sin guardar cada punto en una lista?\n",
        "x2 = 2\n",
        "y1 = 4\n",
        "y2 = 2\n",
        "d = math.sqrt(((x1-x2)**2)+((y1-y2)**2))\n",
        "print(d)"
      ],
      "metadata": {
        "colab": {
          "base_uri": "https://localhost:8080/"
        },
        "id": "d1nfNcbb77GL",
        "outputId": "65137165-9407-428d-a683-b8a641aefdbb"
      },
      "execution_count": null,
      "outputs": [
        {
          "output_type": "stream",
          "name": "stdout",
          "text": [
            "2.8284271247461903\n"
          ]
        }
      ]
    },
    {
      "cell_type": "markdown",
      "source": [
        "### **Ejercicio 5**\n",
        "*Investigue y escriba código que demuestre el funcionamiento de los “slices” en listas*"
      ],
      "metadata": {
        "id": "8WIhdAJL-kG1"
      }
    },
    {
      "cell_type": "code",
      "source": [
        "numeros = [8, 10, 4, 7, 3, 3, 23, 9]\n",
        "print(numeros[:8]) #imprime todos elementos\n",
        "print(numeros[:])\n",
        "print(numeros[3:6]) #imprime elementos desde pos 3 hasta pos 5\n",
        "print(numeros[0:4])"
      ],
      "metadata": {
        "colab": {
          "base_uri": "https://localhost:8080/"
        },
        "id": "-7Weer48-sUM",
        "outputId": "42fa682c-eaa5-45bd-cd3d-596271a68480"
      },
      "execution_count": null,
      "outputs": [
        {
          "output_type": "stream",
          "name": "stdout",
          "text": [
            "[8, 10, 4, 7, 3, 3, 23, 9]\n",
            "[8, 10, 4, 7, 3, 3, 23, 9]\n",
            "[7, 3, 3]\n",
            "[8, 10, 4, 7]\n"
          ]
        }
      ]
    },
    {
      "cell_type": "markdown",
      "source": [
        "# **BIBLIOTECA NUMPY**\n",
        "---"
      ],
      "metadata": {
        "id": "DKNQU3fwSKYQ"
      }
    },
    {
      "cell_type": "markdown",
      "source": [
        "# **Ejercicio 1**\n",
        "\n",
        "\n",
        "*Practique la creación de vectores, matrices y tensores y responda:*\n",
        "\n",
        "------------------------------------\n",
        "\n",
        "*● ¿Qué diferencias hay entre los constructores, array, empty, full, zeros, ones, identity?*\n",
        "\n",
        "**array** --> crea un array a partir de la lista o tupla lista y devuelve una referencia a el.\n",
        "\n",
        "**empty** --> crea y devuelve una referencia a un array vacío\n",
        "\n",
        "**full** --> crea y devuelve una referencia a un array cuyos elementos son todos valor.\n",
        "\n",
        "**zeros** --> crea y devuelve una referencia a un array cuyos elems son todos ceros.\n",
        "\n",
        "**ones** --> crea y devuelve una referencia a un array cuyos elems son todos unos.\n",
        "\n",
        "\n",
        "**identity** -->  Crea y devuelve una referencia a la matriz identidad.\n",
        "\n",
        "\n",
        "----------------------------------------\n",
        "\n",
        "\n",
        "*● ¿Qué tipos de datos pueden utilizarse? ¿En qué se diferencian? ¿Cuál es el tipo que se toma por defecto?¿Es siempre el mismo?*\n",
        "\n",
        "Los tipos de datos que pueden utilizarse son --> int, float, complex\n",
        "El tipo de dato que se toma por defecto es el float.\n",
        "\n",
        "----------------------------------\n",
        "\n",
        "*● ¿Qué funciones se pueden utilizar para generar arreglos con números aleatorios?*\n",
        "- np.randint(a,b) --> devuelve un número entero comprendido entre a y b (ambos inclusive) de forma aleatoria.\n",
        "\n",
        "- np.randrange(a,b,salto) --> genera números enteros aleatorios comprendidos entre a y b separados entre sí con un salto.\n",
        "\n",
        "- np.random() --> devuelve un float comprendido entre [0.0 y 1.0)\n",
        "\n",
        "- np.uniform(a,b) --> devuelve un float aleatorio comprendido entre a y b (ambos inclusive).\n",
        "\n",
        "- np.sample(conjunto, n) --> Esta función devuelve n elementos aleatorios de la secuencia conjunto"
      ],
      "metadata": {
        "id": "h5TZQXb7Si2p"
      }
    },
    {
      "cell_type": "code",
      "source": [
        "import numpy as np"
      ],
      "metadata": {
        "id": "KQYt1VKNUJHk"
      },
      "execution_count": 1,
      "outputs": []
    },
    {
      "cell_type": "code",
      "source": [
        "# creo e imprimo vector\n",
        "v = np.array([1, 2, 3])\n",
        "print('vector: ')\n",
        "print (v)\n",
        "\n",
        "print()\n",
        "\n",
        "# creo e imprimo matriz\n",
        "m = np.array([(1, 2, 3), (4, 5, 6)])\n",
        "print('matriz: ')\n",
        "print(m)\n",
        "\n"
      ],
      "metadata": {
        "colab": {
          "base_uri": "https://localhost:8080/"
        },
        "id": "XPQxwcy5UaNx",
        "outputId": "3b2fc640-da4a-4137-affc-02303d040a84"
      },
      "execution_count": 5,
      "outputs": [
        {
          "output_type": "stream",
          "name": "stdout",
          "text": [
            "vector: \n",
            "[1 2 3]\n",
            "\n",
            "matriz: \n",
            "[[1 2 3]\n",
            " [4 5 6]]\n"
          ]
        }
      ]
    },
    {
      "cell_type": "markdown",
      "source": [
        "# **Ejercicio 2**\n",
        "\n",
        "Investigue y ejemplifique las funciones relacionadas al tamaño de los arrays de Numpy:\n",
        "\n",
        "● ¿Para qué sirven las funciones shape, len, ndim, size?\n",
        "\n",
        "● ¿Qué tipos de datos pueden utilizarse? ¿En qué se diferencian? ¿Cuál es el tipo que se toma por defecto?¿Es siempre el mismo?\n",
        "\n",
        "● ¿Qué funciones se pueden utilizar para generar arreglos con números aleatorios?"
      ],
      "metadata": {
        "id": "mxo9XbfYcxt2"
      }
    },
    {
      "cell_type": "markdown",
      "source": [
        "# **BIBLIOTECA PANDAS**\n",
        "---"
      ],
      "metadata": {
        "id": "OLcx7lC2ApcH"
      }
    },
    {
      "cell_type": "markdown",
      "source": [
        "### **Ejercicio 1**\n",
        "*Investigue el funcionamiento del Dataframe de Pandas y cree uno con la información de la siguiente tabla:*\n",
        "\n",
        "*Realice las siguientes operaciones:*\n",
        "\n",
        "*● Imprimir los nombres de las columnas.*\n",
        "\n",
        "*● Agregar a la tabla a Pablo que tiene 30 años y es originario de Colombia. Agregarlo de 2 formas diferentes.*\n",
        "\n",
        "*● Eliminar de la tabla al Pedro repetido.*\n",
        "\n",
        "*● Modificar los atributos de países que dicen “Peru” (sin acento) y reemplazarlos por “Perú” (con acento).*\n"
      ],
      "metadata": {
        "id": "RSu-W4m5AxX1"
      }
    },
    {
      "cell_type": "code",
      "source": [
        "import pandas as pd"
      ],
      "metadata": {
        "id": "ddocOhYMDFYw"
      },
      "execution_count": null,
      "outputs": []
    },
    {
      "cell_type": "code",
      "source": [
        "nombre = ['Juan', 'María', 'Pedro', 'José']\n",
        "edad = [20, 26, 18, 22]\n",
        "pais = ['Argentina', 'Peru', 'Brasil', 'Chile']"
      ],
      "metadata": {
        "id": "bxCWMXnEAv5n"
      },
      "execution_count": null,
      "outputs": []
    },
    {
      "cell_type": "code",
      "source": [
        "tabla = {'nombre' : nombre, 'edad' : edad, 'pais' : pais}\n",
        "\n",
        "# creo el dataframe\n",
        "df = pd.DataFrame(tabla)"
      ],
      "metadata": {
        "id": "GJEIeCnICrdW"
      },
      "execution_count": null,
      "outputs": []
    },
    {
      "cell_type": "code",
      "source": [
        "# muestro df\n",
        "df\n",
        "# como elimino la 1er columna?"
      ],
      "metadata": {
        "colab": {
          "base_uri": "https://localhost:8080/",
          "height": 174
        },
        "id": "f9pH5DjhDOaE",
        "outputId": "e90aafde-8bbf-4895-cdb4-ebe570d209d6"
      },
      "execution_count": null,
      "outputs": [
        {
          "output_type": "execute_result",
          "data": {
            "text/plain": [
              "  nombre  edad       pais\n",
              "0   Juan    20  Argentina\n",
              "1  María    26       Peru\n",
              "2  Pedro    18     Brasil\n",
              "3   José    22      Chile"
            ],
            "text/html": [
              "\n",
              "  <div id=\"df-d642a761-6b95-403d-b433-b11f40891a84\" class=\"colab-df-container\">\n",
              "    <div>\n",
              "<style scoped>\n",
              "    .dataframe tbody tr th:only-of-type {\n",
              "        vertical-align: middle;\n",
              "    }\n",
              "\n",
              "    .dataframe tbody tr th {\n",
              "        vertical-align: top;\n",
              "    }\n",
              "\n",
              "    .dataframe thead th {\n",
              "        text-align: right;\n",
              "    }\n",
              "</style>\n",
              "<table border=\"1\" class=\"dataframe\">\n",
              "  <thead>\n",
              "    <tr style=\"text-align: right;\">\n",
              "      <th></th>\n",
              "      <th>nombre</th>\n",
              "      <th>edad</th>\n",
              "      <th>pais</th>\n",
              "    </tr>\n",
              "  </thead>\n",
              "  <tbody>\n",
              "    <tr>\n",
              "      <th>0</th>\n",
              "      <td>Juan</td>\n",
              "      <td>20</td>\n",
              "      <td>Argentina</td>\n",
              "    </tr>\n",
              "    <tr>\n",
              "      <th>1</th>\n",
              "      <td>María</td>\n",
              "      <td>26</td>\n",
              "      <td>Peru</td>\n",
              "    </tr>\n",
              "    <tr>\n",
              "      <th>2</th>\n",
              "      <td>Pedro</td>\n",
              "      <td>18</td>\n",
              "      <td>Brasil</td>\n",
              "    </tr>\n",
              "    <tr>\n",
              "      <th>3</th>\n",
              "      <td>José</td>\n",
              "      <td>22</td>\n",
              "      <td>Chile</td>\n",
              "    </tr>\n",
              "  </tbody>\n",
              "</table>\n",
              "</div>\n",
              "    <div class=\"colab-df-buttons\">\n",
              "\n",
              "  <div class=\"colab-df-container\">\n",
              "    <button class=\"colab-df-convert\" onclick=\"convertToInteractive('df-d642a761-6b95-403d-b433-b11f40891a84')\"\n",
              "            title=\"Convert this dataframe to an interactive table.\"\n",
              "            style=\"display:none;\">\n",
              "\n",
              "  <svg xmlns=\"http://www.w3.org/2000/svg\" height=\"24px\" viewBox=\"0 -960 960 960\">\n",
              "    <path d=\"M120-120v-720h720v720H120Zm60-500h600v-160H180v160Zm220 220h160v-160H400v160Zm0 220h160v-160H400v160ZM180-400h160v-160H180v160Zm440 0h160v-160H620v160ZM180-180h160v-160H180v160Zm440 0h160v-160H620v160Z\"/>\n",
              "  </svg>\n",
              "    </button>\n",
              "\n",
              "  <style>\n",
              "    .colab-df-container {\n",
              "      display:flex;\n",
              "      gap: 12px;\n",
              "    }\n",
              "\n",
              "    .colab-df-convert {\n",
              "      background-color: #E8F0FE;\n",
              "      border: none;\n",
              "      border-radius: 50%;\n",
              "      cursor: pointer;\n",
              "      display: none;\n",
              "      fill: #1967D2;\n",
              "      height: 32px;\n",
              "      padding: 0 0 0 0;\n",
              "      width: 32px;\n",
              "    }\n",
              "\n",
              "    .colab-df-convert:hover {\n",
              "      background-color: #E2EBFA;\n",
              "      box-shadow: 0px 1px 2px rgba(60, 64, 67, 0.3), 0px 1px 3px 1px rgba(60, 64, 67, 0.15);\n",
              "      fill: #174EA6;\n",
              "    }\n",
              "\n",
              "    .colab-df-buttons div {\n",
              "      margin-bottom: 4px;\n",
              "    }\n",
              "\n",
              "    [theme=dark] .colab-df-convert {\n",
              "      background-color: #3B4455;\n",
              "      fill: #D2E3FC;\n",
              "    }\n",
              "\n",
              "    [theme=dark] .colab-df-convert:hover {\n",
              "      background-color: #434B5C;\n",
              "      box-shadow: 0px 1px 3px 1px rgba(0, 0, 0, 0.15);\n",
              "      filter: drop-shadow(0px 1px 2px rgba(0, 0, 0, 0.3));\n",
              "      fill: #FFFFFF;\n",
              "    }\n",
              "  </style>\n",
              "\n",
              "    <script>\n",
              "      const buttonEl =\n",
              "        document.querySelector('#df-d642a761-6b95-403d-b433-b11f40891a84 button.colab-df-convert');\n",
              "      buttonEl.style.display =\n",
              "        google.colab.kernel.accessAllowed ? 'block' : 'none';\n",
              "\n",
              "      async function convertToInteractive(key) {\n",
              "        const element = document.querySelector('#df-d642a761-6b95-403d-b433-b11f40891a84');\n",
              "        const dataTable =\n",
              "          await google.colab.kernel.invokeFunction('convertToInteractive',\n",
              "                                                    [key], {});\n",
              "        if (!dataTable) return;\n",
              "\n",
              "        const docLinkHtml = 'Like what you see? Visit the ' +\n",
              "          '<a target=\"_blank\" href=https://colab.research.google.com/notebooks/data_table.ipynb>data table notebook</a>'\n",
              "          + ' to learn more about interactive tables.';\n",
              "        element.innerHTML = '';\n",
              "        dataTable['output_type'] = 'display_data';\n",
              "        await google.colab.output.renderOutput(dataTable, element);\n",
              "        const docLink = document.createElement('div');\n",
              "        docLink.innerHTML = docLinkHtml;\n",
              "        element.appendChild(docLink);\n",
              "      }\n",
              "    </script>\n",
              "  </div>\n",
              "\n",
              "    </div>\n",
              "  </div>\n"
            ]
          },
          "metadata": {},
          "execution_count": 44
        }
      ]
    },
    {
      "cell_type": "code",
      "source": [
        "#  Imprimir los nombres de las columnas.\n",
        "print('Nombres de columnas: ')\n",
        "print(tabla.keys())"
      ],
      "metadata": {
        "colab": {
          "base_uri": "https://localhost:8080/"
        },
        "id": "NtPTassfDlH5",
        "outputId": "936ad001-df65-4cfb-8895-cb2ebed84d60"
      },
      "execution_count": null,
      "outputs": [
        {
          "output_type": "stream",
          "name": "stdout",
          "text": [
            "Nombres de columnas: \n",
            "dict_keys(['nombre', 'edad', 'pais'])\n"
          ]
        }
      ]
    },
    {
      "cell_type": "code",
      "source": [
        "# Agregar a la tabla a Pablo que tiene 30 años y es originario de Colombia.\n",
        "# Agregarlo de 2 formas diferentes\n",
        "\n",
        "# agrego al final\n",
        "#persona = {}\n",
        "tabla.update({'nombre' : 'Pablo', 'edad' : 30, 'pais' : 'Colombia'})\n",
        "\n",
        "# agrego en X lugar"
      ],
      "metadata": {
        "id": "JuHOcTYREPKb"
      },
      "execution_count": null,
      "outputs": []
    },
    {
      "cell_type": "code",
      "source": [
        "# muestro df\n",
        "df"
      ],
      "metadata": {
        "colab": {
          "base_uri": "https://localhost:8080/",
          "height": 174
        },
        "id": "4Vn9iqW8FzaE",
        "outputId": "6be48992-57df-4555-f70f-6e81c0a84ce5"
      },
      "execution_count": null,
      "outputs": [
        {
          "output_type": "execute_result",
          "data": {
            "text/plain": [
              "  nombre  edad       pais\n",
              "0   Juan    20  Argentina\n",
              "1  María    26       Peru\n",
              "2  Pedro    18     Brasil\n",
              "3   José    22      Chile"
            ],
            "text/html": [
              "\n",
              "  <div id=\"df-f900fecd-c7ff-4a43-832a-c04c7208ce58\" class=\"colab-df-container\">\n",
              "    <div>\n",
              "<style scoped>\n",
              "    .dataframe tbody tr th:only-of-type {\n",
              "        vertical-align: middle;\n",
              "    }\n",
              "\n",
              "    .dataframe tbody tr th {\n",
              "        vertical-align: top;\n",
              "    }\n",
              "\n",
              "    .dataframe thead th {\n",
              "        text-align: right;\n",
              "    }\n",
              "</style>\n",
              "<table border=\"1\" class=\"dataframe\">\n",
              "  <thead>\n",
              "    <tr style=\"text-align: right;\">\n",
              "      <th></th>\n",
              "      <th>nombre</th>\n",
              "      <th>edad</th>\n",
              "      <th>pais</th>\n",
              "    </tr>\n",
              "  </thead>\n",
              "  <tbody>\n",
              "    <tr>\n",
              "      <th>0</th>\n",
              "      <td>Juan</td>\n",
              "      <td>20</td>\n",
              "      <td>Argentina</td>\n",
              "    </tr>\n",
              "    <tr>\n",
              "      <th>1</th>\n",
              "      <td>María</td>\n",
              "      <td>26</td>\n",
              "      <td>Peru</td>\n",
              "    </tr>\n",
              "    <tr>\n",
              "      <th>2</th>\n",
              "      <td>Pedro</td>\n",
              "      <td>18</td>\n",
              "      <td>Brasil</td>\n",
              "    </tr>\n",
              "    <tr>\n",
              "      <th>3</th>\n",
              "      <td>José</td>\n",
              "      <td>22</td>\n",
              "      <td>Chile</td>\n",
              "    </tr>\n",
              "  </tbody>\n",
              "</table>\n",
              "</div>\n",
              "    <div class=\"colab-df-buttons\">\n",
              "\n",
              "  <div class=\"colab-df-container\">\n",
              "    <button class=\"colab-df-convert\" onclick=\"convertToInteractive('df-f900fecd-c7ff-4a43-832a-c04c7208ce58')\"\n",
              "            title=\"Convert this dataframe to an interactive table.\"\n",
              "            style=\"display:none;\">\n",
              "\n",
              "  <svg xmlns=\"http://www.w3.org/2000/svg\" height=\"24px\" viewBox=\"0 -960 960 960\">\n",
              "    <path d=\"M120-120v-720h720v720H120Zm60-500h600v-160H180v160Zm220 220h160v-160H400v160Zm0 220h160v-160H400v160ZM180-400h160v-160H180v160Zm440 0h160v-160H620v160ZM180-180h160v-160H180v160Zm440 0h160v-160H620v160Z\"/>\n",
              "  </svg>\n",
              "    </button>\n",
              "\n",
              "  <style>\n",
              "    .colab-df-container {\n",
              "      display:flex;\n",
              "      gap: 12px;\n",
              "    }\n",
              "\n",
              "    .colab-df-convert {\n",
              "      background-color: #E8F0FE;\n",
              "      border: none;\n",
              "      border-radius: 50%;\n",
              "      cursor: pointer;\n",
              "      display: none;\n",
              "      fill: #1967D2;\n",
              "      height: 32px;\n",
              "      padding: 0 0 0 0;\n",
              "      width: 32px;\n",
              "    }\n",
              "\n",
              "    .colab-df-convert:hover {\n",
              "      background-color: #E2EBFA;\n",
              "      box-shadow: 0px 1px 2px rgba(60, 64, 67, 0.3), 0px 1px 3px 1px rgba(60, 64, 67, 0.15);\n",
              "      fill: #174EA6;\n",
              "    }\n",
              "\n",
              "    .colab-df-buttons div {\n",
              "      margin-bottom: 4px;\n",
              "    }\n",
              "\n",
              "    [theme=dark] .colab-df-convert {\n",
              "      background-color: #3B4455;\n",
              "      fill: #D2E3FC;\n",
              "    }\n",
              "\n",
              "    [theme=dark] .colab-df-convert:hover {\n",
              "      background-color: #434B5C;\n",
              "      box-shadow: 0px 1px 3px 1px rgba(0, 0, 0, 0.15);\n",
              "      filter: drop-shadow(0px 1px 2px rgba(0, 0, 0, 0.3));\n",
              "      fill: #FFFFFF;\n",
              "    }\n",
              "  </style>\n",
              "\n",
              "    <script>\n",
              "      const buttonEl =\n",
              "        document.querySelector('#df-f900fecd-c7ff-4a43-832a-c04c7208ce58 button.colab-df-convert');\n",
              "      buttonEl.style.display =\n",
              "        google.colab.kernel.accessAllowed ? 'block' : 'none';\n",
              "\n",
              "      async function convertToInteractive(key) {\n",
              "        const element = document.querySelector('#df-f900fecd-c7ff-4a43-832a-c04c7208ce58');\n",
              "        const dataTable =\n",
              "          await google.colab.kernel.invokeFunction('convertToInteractive',\n",
              "                                                    [key], {});\n",
              "        if (!dataTable) return;\n",
              "\n",
              "        const docLinkHtml = 'Like what you see? Visit the ' +\n",
              "          '<a target=\"_blank\" href=https://colab.research.google.com/notebooks/data_table.ipynb>data table notebook</a>'\n",
              "          + ' to learn more about interactive tables.';\n",
              "        element.innerHTML = '';\n",
              "        dataTable['output_type'] = 'display_data';\n",
              "        await google.colab.output.renderOutput(dataTable, element);\n",
              "        const docLink = document.createElement('div');\n",
              "        docLink.innerHTML = docLinkHtml;\n",
              "        element.appendChild(docLink);\n",
              "      }\n",
              "    </script>\n",
              "  </div>\n",
              "\n",
              "    </div>\n",
              "  </div>\n"
            ]
          },
          "metadata": {},
          "execution_count": 48
        }
      ]
    },
    {
      "cell_type": "code",
      "source": [],
      "metadata": {
        "id": "CFltkzpJSRZe"
      },
      "execution_count": null,
      "outputs": []
    },
    {
      "cell_type": "markdown",
      "source": [],
      "metadata": {
        "id": "1H0bjNeqSg5A"
      }
    }
  ]
}