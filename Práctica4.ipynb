{
  "nbformat": 4,
  "nbformat_minor": 0,
  "metadata": {
    "colab": {
      "provenance": [],
      "authorship_tag": "ABX9TyPxprLUi8zcY/BDAaMttzfs",
      "include_colab_link": true
    },
    "kernelspec": {
      "name": "python3",
      "display_name": "Python 3"
    },
    "language_info": {
      "name": "python"
    }
  },
  "cells": [
    {
      "cell_type": "markdown",
      "metadata": {
        "id": "view-in-github",
        "colab_type": "text"
      },
      "source": [
        "<a href=\"https://colab.research.google.com/github/doloresgarro/Deep-Learning/blob/main/Pr%C3%A1ctica4.ipynb\" target=\"_parent\"><img src=\"https://colab.research.google.com/assets/colab-badge.svg\" alt=\"Open In Colab\"/></a>"
      ]
    },
    {
      "cell_type": "markdown",
      "source": [
        "# **Práctica 4 - Deep Learning**\n",
        "*Multiperceptrón*"
      ],
      "metadata": {
        "id": "a6oJMbf-Y4AP"
      }
    },
    {
      "cell_type": "markdown",
      "source": [
        "# **Ejercicio 1**"
      ],
      "metadata": {
        "id": "_N2Ryy2jYz4-"
      }
    },
    {
      "cell_type": "markdown",
      "source": [
        "*a) En base a esta información, indique:*\n",
        "\n",
        "*▪ Cuántos ejemplos se utilizaron en el entrenamiento.*\n",
        "\n",
        "\n",
        "*▪ Cuántas clases puede reconocer este multiperceptrón.*\n",
        "\n",
        "*▪ Cuál es la precisión (accuracy) de la red sobre el conjunto de ejemplos completo.*\n",
        "\n",
        "*▪ Cuáles son los valores de precisión de la red al responder por cada uno de los valores de clase (precision).*\n",
        "\n",
        "*▪ Cuáles son los valores de sensibilidad de la red al responder por cada uno de los valores de clase (recall).*"
      ],
      "metadata": {
        "id": "dfxR5nDUZgIf"
      }
    },
    {
      "cell_type": "markdown",
      "source": [
        "*Se entreno una red neuronal multiperceptrón para resolver un problema de clasificación y al medir su desempeño sobre el conjunto de datos de entrenamiento se obtuvo la siguiente matriz de confusión:*"
      ],
      "metadata": {
        "id": "0q_lh8A2aIDq"
      }
    },
    {
      "cell_type": "code",
      "execution_count": null,
      "metadata": {
        "id": "rWS_CfR4Opou"
      },
      "outputs": [],
      "source": [
        "import pandas as pd      # para trabajar con archivos de datos csv, excel, etc: https://pandas.pydata.org/docs/getting_started/tutorials.html\n",
        "import numpy as np\n",
        "\n",
        "# calcula las metricas precision, recall, f1-score y accuracy a partir de la matriz de confusion\n",
        "# retorna tupla: ( precision, recall, f1_score, accuracy )\n",
        "def calcular_metricas(conf_mat):\n",
        "    precision = np.zeros(conf_mat.shape[0])  # inicializa en 0 el vector precisión, conf_mat.shape[0] --> indica el num de filas de la matriz con_mat\n",
        "                                             # por lo tanto precisión va a ser una vector inicializado en 0 con el num de filas de la matriz recibida como parámetro\n",
        "    for i in range(0, len(conf_mat)):\n",
        "        precision[i] = conf_mat[i][i]/sum(conf_mat.T[i])  # en c/ pos divide el valor de la matriz en esa f y c por la suma de todos los elem de la matriz en la columna i\n",
        "\n",
        "    recall = np.zeros(conf_mat.shape[0])   # recall lo mismo q lo anterior\n",
        "    for i in range(0, len(conf_mat)):\n",
        "        recall[i] = conf_mat[i][i]/sum(conf_mat[i])\n",
        "\n",
        "    f1_score = 2* (precision*recall) /(precision+recall)\n",
        "\n",
        "    accuracy =  0\n",
        "    for i in range(0, len(conf_mat)):\n",
        "        accuracy+=conf_mat[i][i]\n",
        "    accuracy/= conf_mat.sum()        # conf_mat.sum() --> suma de elems de la matriz conf_mat\n",
        "\n",
        "    return ( precision, recall, f1_score, accuracy )\n",
        "\n",
        "# el parámetro metricas es una tupla ( precision, recall, f1_score, accuracy )\n",
        "def imprimir_metricas( metricas ):\n",
        "    (precision, recall, f1_score, accuracy) = metricas\n",
        "    print('\\n clase   precision    recall    f1-score')\n",
        "    for i in range(0, len(precision)):\n",
        "        print('%5d %10.2f %10.2f %10.2f' % (i, precision[i], recall[i], f1_score[i]))\n",
        "    print('\\naccuracy: %6.2f\\n' % accuracy)\n",
        "\n"
      ]
    },
    {
      "cell_type": "code",
      "source": [
        "confusion = np.array([\n",
        "           [ 17, 0, 1, 0, 1 ],\n",
        "           [ 0, 12, 0, 0, 0 ],\n",
        "           [ 0, 0, 12, 0, 0 ],\n",
        "           [ 2, 0, 0, 38, 0 ],\n",
        "           [ 0, 8, 0, 0, 61 ]\n",
        "           ])\n",
        "\n",
        "print('\\n Matriz de Confusión:')\n",
        "print(confusion, '\\n')\n",
        "\n",
        "\n",
        "\n",
        "#calcula métricas de forma manual\n",
        "metricas = calcular_metricas(confusion)\n",
        "imprimir_metricas(metricas)\n",
        "\n",
        "\n",
        "\n"
      ],
      "metadata": {
        "colab": {
          "base_uri": "https://localhost:8080/"
        },
        "id": "jfnoh6PSZRDg",
        "outputId": "f0831a67-dde1-4796-a6d1-b5432be785a1"
      },
      "execution_count": null,
      "outputs": [
        {
          "output_type": "stream",
          "name": "stdout",
          "text": [
            "\n",
            " Matriz de Confusión:\n",
            "[[17  0  1  0  1]\n",
            " [ 0 12  0  0  0]\n",
            " [ 0  0 12  0  0]\n",
            " [ 2  0  0 38  0]\n",
            " [ 0  8  0  0 61]] \n",
            "\n",
            "\n",
            " clase   precision    recall    f1-score\n",
            "    0       0.89       0.89       0.89\n",
            "    1       0.60       1.00       0.75\n",
            "    2       0.92       1.00       0.96\n",
            "    3       1.00       0.95       0.97\n",
            "    4       0.98       0.88       0.93\n",
            "\n",
            "accuracy:   0.92\n",
            "\n"
          ]
        }
      ]
    },
    {
      "cell_type": "markdown",
      "source": [
        "Precisión --> proporción de predicciones correctas sobre una clase\n",
        "\n",
        "Recall --> proporción de ejemplos de una clase que correctamente clasificados\n",
        "\n",
        "Acurrancy --> cantidad de aciertos sobre el total de ejemplos\n"
      ],
      "metadata": {
        "id": "IuSBcQ97gxPy"
      }
    },
    {
      "cell_type": "markdown",
      "source": [
        "b) La clase con mejor valor de F1-score es la clase 3"
      ],
      "metadata": {
        "id": "FvALAnd8hnYy"
      }
    }
  ]
}