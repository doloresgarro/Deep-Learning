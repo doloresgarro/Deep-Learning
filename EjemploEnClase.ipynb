{
  "nbformat": 4,
  "nbformat_minor": 0,
  "metadata": {
    "colab": {
      "provenance": [],
      "authorship_tag": "ABX9TyOrb07s02UyXijxRHILcjWU",
      "include_colab_link": true
    },
    "kernelspec": {
      "name": "python3",
      "display_name": "Python 3"
    },
    "language_info": {
      "name": "python"
    }
  },
  "cells": [
    {
      "cell_type": "markdown",
      "metadata": {
        "id": "view-in-github",
        "colab_type": "text"
      },
      "source": [
        "<a href=\"https://colab.research.google.com/github/doloresgarro/Deep-Learning/blob/main/EjemploEnClase.ipynb\" target=\"_parent\"><img src=\"https://colab.research.google.com/assets/colab-badge.svg\" alt=\"Open In Colab\"/></a>"
      ]
    },
    {
      "cell_type": "markdown",
      "source": [
        "Escriba el código Python para minimizar f(x,y) usando la técnica de descenso por gradiente."
      ],
      "metadata": {
        "id": "X4FZrR9ouqzS"
      }
    },
    {
      "cell_type": "code",
      "execution_count": null,
      "metadata": {
        "colab": {
          "base_uri": "https://localhost:8080/",
          "height": 245
        },
        "id": "FyLDfwQMszsH",
        "outputId": "24c9c557-76fd-4afe-e4c6-2dc9c5e0bcab"
      },
      "outputs": [
        {
          "output_type": "error",
          "ename": "AttributeError",
          "evalue": "ignored",
          "traceback": [
            "\u001b[0;31m---------------------------------------------------------------------------\u001b[0m",
            "\u001b[0;31mAttributeError\u001b[0m                            Traceback (most recent call last)",
            "\u001b[0;32m<ipython-input-2-bca1c0962f1c>\u001b[0m in \u001b[0;36m<cell line: 5>\u001b[0;34m()\u001b[0m\n\u001b[1;32m      3\u001b[0m \u001b[0;32mimport\u001b[0m \u001b[0mmath\u001b[0m\u001b[0;34m\u001b[0m\u001b[0;34m\u001b[0m\u001b[0m\n\u001b[1;32m      4\u001b[0m \u001b[0;34m\u001b[0m\u001b[0m\n\u001b[0;32m----> 5\u001b[0;31m \u001b[0;34m[\u001b[0m\u001b[0mx\u001b[0m\u001b[0;34m,\u001b[0m\u001b[0my\u001b[0m\u001b[0;34m,\u001b[0m\u001b[0mz\u001b[0m\u001b[0;34m]\u001b[0m \u001b[0;34m=\u001b[0m \u001b[0mgr\u001b[0m\u001b[0;34m.\u001b[0m\u001b[0mgraficoGradiente\u001b[0m\u001b[0;34m(\u001b[0m\u001b[0;36m1\u001b[0m\u001b[0;34m)\u001b[0m\u001b[0;34m\u001b[0m\u001b[0;34m\u001b[0m\u001b[0m\n\u001b[0m\u001b[1;32m      6\u001b[0m \u001b[0mz_new\u001b[0m \u001b[0;34m=\u001b[0m \u001b[0;36m3\u001b[0m\u001b[0;34m*\u001b[0m\u001b[0mx\u001b[0m\u001b[0;34m**\u001b[0m\u001b[0;36m2\u001b[0m \u001b[0;34m+\u001b[0m \u001b[0my\u001b[0m\u001b[0;34m**\u001b[0m\u001b[0;36m2\u001b[0m\u001b[0;34m\u001b[0m\u001b[0;34m\u001b[0m\u001b[0m\n\u001b[1;32m      7\u001b[0m \u001b[0;34m\u001b[0m\u001b[0m\n",
            "\u001b[0;31mAttributeError\u001b[0m: module 'grafica' has no attribute 'graficoGradiente'"
          ]
        }
      ],
      "source": [
        "import numpy as np\n",
        "import grafica as gr\n",
        "import math\n",
        "\n",
        "[x,y,z] = gr.graficoGradiente(1)\n",
        "z_new = 3*x**2 + y**2\n",
        "\n",
        "MAX_ITE = 50\n",
        "ite = 0\n",
        "alfa = 0.01\n",
        "cota = 0.001\n",
        "z = z_new + 1\n",
        "\n",
        "while(ite < MAX_ITE): # and (np.abs(z-z_new) > cota):\n",
        "  z = z_new\n",
        "  PtoAnt = [x, y, z]\n",
        "  grad_x = 6*x\n",
        "  grad_y = 2*y\n",
        "\n",
        "  x = x - alfa * grad_x\n",
        "  y = y - alfa * grad_y\n",
        "  z_new = 3*x**2 + y**2\n",
        "  gr.graficarPaso(PtoAnt, [x,y, z_new], h)\n",
        "  ite = ite + 1\n",
        "\n",
        "print(\"ite \")"
      ]
    },
    {
      "cell_type": "markdown",
      "source": [
        "# Sección nueva"
      ],
      "metadata": {
        "id": "ugYLS7-b0OtF"
      }
    }
  ]
}